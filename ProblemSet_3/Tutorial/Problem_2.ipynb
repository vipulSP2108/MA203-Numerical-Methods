{
  "nbformat": 4,
  "nbformat_minor": 0,
  "metadata": {
    "colab": {
      "provenance": []
    },
    "kernelspec": {
      "name": "python3",
      "display_name": "Python 3"
    },
    "language_info": {
      "name": "python"
    }
  },
  "cells": [
    {
      "cell_type": "markdown",
      "source": [
        "# Problem 2\n",
        "The ideal gas equation of state is valid only for a limited range of pressures and temperatures.\n",
        "An alternative equation of state for gases is the van der Waals equation:\n",
        "\n",
        "(p +\n",
        "a\n",
        "v\n",
        "2\n",
        ") (v − b) = RT\n",
        "\n",
        "where v is the molar volume, and a and b are the empirical constants for a gas. A chemical\n",
        "engineering design project requires you to accurately estimate the molar volume of ethyl\n",
        "alcohol (a = 12.02 and b = 0.08407) at a temperature of 400 K and pressure of 2.5 atm. Use\n",
        "the false position method. Compare your results with the ideal gas law."
      ],
      "metadata": {
        "id": "-CcSbu7Rhh2i"
      }
    },
    {
      "cell_type": "code",
      "execution_count": 2,
      "metadata": {
        "colab": {
          "base_uri": "https://localhost:8080/"
        },
        "id": "fLG_wcszhWIz",
        "outputId": "a451ecd4-87ba-484a-e318-1c8dcaedae99"
      },
      "outputs": [
        {
          "output_type": "stream",
          "name": "stdout",
          "text": [
            "d1:0 \t d2:7.0\n",
            "d1:0 \t d2:3.5\n",
            "d1:0 \t d2:1.75\n",
            "d1:0 \t d2:0.875\n",
            "d1:0 \t d2:0.4375\n",
            "d1:0.21875 \t d2:0.4375\n",
            "d1:0.328125 \t d2:0.4375\n",
            "d1:0.3828125 \t d2:0.4375\n",
            "d1:0.41015625 \t d2:0.4375\n",
            "d1:0.41015625 \t d2:0.423828125\n",
            "d1:0.4169921875 \t d2:0.423828125\n",
            "d1:0.42041015625 \t d2:0.423828125\n",
            "d1:0.422119140625 \t d2:0.423828125\n",
            "d1:0.422119140625 \t d2:0.4229736328125\n",
            "d1:0.42254638671875 \t d2:0.4229736328125\n",
            "d1:0.42254638671875 \t d2:0.422760009765625\n",
            "d1:0.4226531982421875 \t d2:0.422760009765625\n",
            "d1:0.42270660400390625 \t d2:0.422760009765625\n"
          ]
        }
      ],
      "source": [
        "d1_list = []\n",
        "d2_list = []\n",
        "\n",
        "v_l = 0               # eq < 0\n",
        "v_u = 14               # eq > 0\n",
        "while abs(v_l - v_u)>=0.0001:\n",
        "  v_dash = (v_l + v_u)/2\n",
        "  v = v_dash\n",
        "  eq = (2.5*((v)**(3)))+(33.030175*((v)**(2)))-(12.02*(v))-1.0105214\n",
        "  if eq < 0:\n",
        "    v_l = v_dash\n",
        "  else:\n",
        "    v_u = v_dash\n",
        "  print(f\"d1:{v_l} \\t d2:{v_u}\")"
      ]
    }
  ]
}