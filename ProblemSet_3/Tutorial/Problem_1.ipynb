{
  "nbformat": 4,
  "nbformat_minor": 0,
  "metadata": {
    "colab": {
      "provenance": []
    },
    "kernelspec": {
      "name": "python3",
      "display_name": "Python 3"
    },
    "language_info": {
      "name": "python"
    }
  },
  "cells": [
    {
      "cell_type": "markdown",
      "source": [
        "# Problem 1\n",
        "Real mechanical systems may involve the deflections of non-linear springs. In Figure below, a\n",
        "mass m is released a distance h above a non-linear spring. The resistance force F of the spring\n",
        "is given by\n",
        "\n",
        "F = − (k1d + k2d\n",
        "3\n",
        "2)\n",
        "\n",
        "Conservation of energy can be used to show that\n",
        "\n",
        "0 =\n",
        "2k2d\n",
        "5\n",
        "2\n",
        "5\n",
        "+\n",
        "1\n",
        "2\n",
        "k1d\n",
        "2 − mgd − mgh\n",
        "\n",
        "Solve for d using the Bisection method, given the following parameter values. k1 =\n",
        "50,000 g\n",
        "s\n",
        "2\n",
        ", k2 = 40 g\n",
        "s\n",
        "2m0.5\n",
        ", m = 90 g, g = 9.81 m\n",
        "s\n",
        "2\n",
        ", h = 0.45 m."
      ],
      "metadata": {
        "id": "cZnoS7P9EeeS"
      }
    },
    {
      "cell_type": "code",
      "execution_count": null,
      "metadata": {
        "colab": {
          "base_uri": "https://localhost:8080/"
        },
        "id": "Swh2DqtF9aFr",
        "outputId": "460fec69-2589-4733-f334-452bd9a2bd05"
      },
      "outputs": [
        {
          "output_type": "stream",
          "name": "stdout",
          "text": [
            "d1:0 \t d2:0.5\n",
            "d1:0 \t d2:0.25\n",
            "d1:0.125 \t d2:0.25\n",
            "d1:0.125 \t d2:0.1875\n",
            "d1:0.125 \t d2:0.15625\n",
            "d1:0.140625 \t d2:0.15625\n",
            "d1:0.140625 \t d2:0.1484375\n",
            "d1:0.14453125 \t d2:0.1484375\n",
            "d1:0.14453125 \t d2:0.146484375\n",
            "d1:0.14453125 \t d2:0.1455078125\n",
            "d1:0.14453125 \t d2:0.14501953125\n",
            "d1:0.144775390625 \t d2:0.14501953125\n",
            "d1:0.1448974609375 \t d2:0.14501953125\n",
            "d1:0.1448974609375 \t d2:0.14495849609375\n"
          ]
        }
      ],
      "source": [
        "d1_list = []\n",
        "d2_list = []\n",
        "\n",
        "d_l = 0               # eq < 0\n",
        "d_u = 1               # eq > 0\n",
        "while abs(d_l - d_u)>=0.0001:\n",
        "  d_dash = (d_l + d_u)/2\n",
        "  d = d_dash\n",
        "  eq = (16*((d)**(5/2)))+(25000*((d)**(2)))-(882.9*(d))-397.305\n",
        "  if eq < 0:\n",
        "    d_l = d_dash\n",
        "  else:\n",
        "    d_u = d_dash\n",
        "  print(f\"d1:{d_l} \\t d2:{d_u}\")"
      ]
    }
  ]
}