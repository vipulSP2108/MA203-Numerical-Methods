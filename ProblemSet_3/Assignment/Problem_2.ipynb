{
  "nbformat": 4,
  "nbformat_minor": 0,
  "metadata": {
    "colab": {
      "provenance": []
    },
    "kernelspec": {
      "name": "python3",
      "display_name": "Python 3"
    },
    "language_info": {
      "name": "python"
    }
  },
  "cells": [
    {
      "cell_type": "code",
      "source": [
        "import matplotlib.pyplot as plt\n",
        "import numpy as np"
      ],
      "metadata": {
        "id": "otxtADKmoaBG"
      },
      "execution_count": 61,
      "outputs": []
    },
    {
      "cell_type": "markdown",
      "source": [
        "# Problem 2\n",
        "The ideal gas equation of state is valid only for a limited range of pressures and temperatures.\n",
        "An alternative equation of state for gases is the van der Waals equation:\n",
        "\n",
        "(p + a/v^2) (v − b) = RT\n",
        "\n",
        "where v is the molar volume, and a and b are the empirical constants for a gas. A chemical\n",
        "engineering design project requires you to accurately estimate the molar volume of ethyl\n",
        "alcohol (a = 12.02 and b = 0.08407) at a temperature of 400 K and pressure of 2.5 atm. Use\n",
        "the false position method. Compare your results with the ideal gas law."
      ],
      "metadata": {
        "id": "7eXRmudKwXEg"
      }
    },
    {
      "cell_type": "code",
      "source": [
        "p = 2.5\n",
        "t = 400\n",
        "r = 0.0821\n",
        "a = 12.02\n",
        "b = 0.08407\n",
        "\n",
        "def fun(v):\n",
        "  # eq =  ((r*t)/(p+(a/(v**2)))) + b - v\n",
        "  return (-(2.5*(v**3)) + (33.050175*(v**2)) - (12.02*v) + (1.0105214))/((2.5*(v**2)) + 12.02)\n",
        "\n",
        "                                    ############## for calculating values of vu and vl ##############\n",
        "v = 0\n",
        "funval = 1\n",
        "while funval > 0:\n",
        "  funval = fun(v)\n",
        "  # print(f\"{funval}\\t{v}\")\n",
        "  v += 1\n",
        "\n",
        "                                       ############## for calculating values of vr ##############\n",
        "def f_vr(vl, vu):\n",
        "  vr = vl - ((fun(vl)*(vu - vl)) /(fun(vu) - fun(vl)))\n",
        "  return vr\n",
        "\n",
        "vu = 12\n",
        "vl = 13\n",
        "while fun(f_vr(vl, vu)) > 0.00000001:\n",
        "# for i in range(1):\n",
        "  vr = f_vr(vl, vu)\n",
        "  if fun(vr) < 0:\n",
        "    vl = vr\n",
        "  else:\n",
        "    vu = vr\n",
        "  # print(f\"{fun(vr)} \\t {vr}\")\n",
        "print(f\"{fun(vr)} \\t {vr}\")\n",
        "                                            ############## from ideal gas law ##############\n",
        "print(f\"\\nfrom ideal gas law {(r*t)/p}\\n\")"
      ],
      "metadata": {
        "colab": {
          "base_uri": "https://localhost:8080/"
        },
        "id": "G_hTOo5ybNlz",
        "outputId": "4ad99f64-a75b-49c3-a309-1591cea4cf9a"
      },
      "execution_count": 73,
      "outputs": [
        {
          "output_type": "stream",
          "name": "stdout",
          "text": [
            "8.777855138116384e-07 \t 12.848304885459296\n",
            "\n",
            "from ideal gas law 13.136000000000001\n",
            "\n"
          ]
        }
      ]
    }
  ]
}