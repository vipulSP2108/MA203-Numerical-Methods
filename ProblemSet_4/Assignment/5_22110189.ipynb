{
  "nbformat": 4,
  "nbformat_minor": 0,
  "metadata": {
    "colab": {
      "provenance": []
    },
    "kernelspec": {
      "name": "python3",
      "display_name": "Python 3"
    },
    "language_info": {
      "name": "python"
    }
  },
  "cells": [
    {
      "cell_type": "markdown",
      "source": [
        "# Problem 5\n",
        "Consider the three mass- four spring system shown below. Determine the equations of motion from ∑ Fx = ma for each mass using its free-body diagram.\n",
        "\n",
        "where k1 = k4 = 10 N/m, k2 = k3 = 30 N/m and m1 = m2 = m3 = 2 kg. Write the\n",
        "three equations in matrix form:\n",
        "\n",
        "0= [Acceleration vector] + [k/m matrix] [displacement vector x]\n",
        "\n",
        "At a specific time when a1 = − 0.4 m/s**2, a2 = a3 = 0, this forms a tridiagonal matrix. Solve for the displacement of each mass using the Tridiagonal Matrix Algorithm (TDMA)."
      ],
      "metadata": {
        "id": "vm8skB-NqwQr"
      }
    },
    {
      "cell_type": "code",
      "source": [
        "A = [[-20,15,0],[15,-30,15],[0,15,-20]]\n",
        "B = [-0.4,0,0]\n",
        "\n",
        "L = [[1,0,0],[0,1,0],[0,0,1]]\n",
        "\n",
        "for i in range(0,len(A)-1):\n",
        "  coff1 = A[i][i+1]\n",
        "  coff2 = A[i][i]\n",
        "  muliple = coff1/coff2\n",
        "\n",
        "  L[i+1][i] = muliple\n",
        "\n",
        "  A[i+1][i] = A[i+1][i] - muliple * A[i][i]\n",
        "  A[i+1][i+1] = A[i+1][i+1] - muliple * A[i][i+1]\n",
        "\n",
        "D = [0,0,0]\n",
        "n = len(A)\n",
        "for i in range(0,n):\n",
        "  D[i] = (B[i]-(L[i][i-1] * D[i-1]))\n",
        "\n",
        "x = [0,0,0]\n",
        "x[n-1] = D[n-1]/A[n-1][n-1]\n",
        "for i in range(n-2,-1,-1):\n",
        "  x[i] = (D[i]-(A[i][i+1] * x[i+1]))/(A[i][i])\n",
        "\n",
        "print(\"value of [x1, x2, x3] respectively are\", x)"
      ],
      "metadata": {
        "colab": {
          "base_uri": "https://localhost:8080/"
        },
        "id": "R1CambpCJ4x8",
        "outputId": "7e7ab5d5-3f74-4dd6-f3b9-99269bddc515"
      },
      "execution_count": 35,
      "outputs": [
        {
          "output_type": "stream",
          "name": "stdout",
          "text": [
            "value of [x1, x2, x3] respectively are [0.05, 0.04000000000000001, 0.030000000000000006]\n"
          ]
        }
      ]
    }
  ]
}