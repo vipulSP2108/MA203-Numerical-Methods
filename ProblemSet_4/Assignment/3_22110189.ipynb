{
  "nbformat": 4,
  "nbformat_minor": 0,
  "metadata": {
    "colab": {
      "provenance": []
    },
    "kernelspec": {
      "name": "python3",
      "display_name": "Python 3"
    },
    "language_info": {
      "name": "python"
    }
  },
  "cells": [
    {
      "cell_type": "markdown",
      "source": [
        "# Problem 3\n",
        "Using Kirchhoff’s voltage law to derive set of equations for calculating currents for the circuit shown below. Solve the resulting system of equations numerically."
      ],
      "metadata": {
        "id": "kM5fKPKQqbQa"
      }
    },
    {
      "cell_type": "code",
      "execution_count": 4,
      "metadata": {
        "colab": {
          "base_uri": "https://localhost:8080/"
        },
        "id": "vXzm9H8_oLtm",
        "outputId": "3c934adc-93fa-48ed-83ec-5ed8b3bbc234"
      },
      "outputs": [
        {
          "output_type": "stream",
          "name": "stdout",
          "text": [
            "value of [x1, x2, x3] respectively are [5.175879396984923, 1.9095477386934665, 1.7085427135678386]\n",
            "value of [x1, x2, x3] roundoff respectively are [5, 2, 2]\n"
          ]
        }
      ],
      "source": [
        "def gauss_seidel(max_itr):\n",
        "  updatedx1 = 0\n",
        "  updatedx2 = 0\n",
        "  updatedx3 = 0\n",
        "  for itr in range(0,max_itr+1):\n",
        "    updatedx1 = x1(updatedx1, updatedx2, updatedx3)\n",
        "    updatedx2 = x2(updatedx1, updatedx2, updatedx3)\n",
        "    updatedx3 = x3(updatedx1, updatedx2, updatedx3)\n",
        "\n",
        "  return [updatedx1, updatedx2, updatedx3]\n",
        "\n",
        "def x1(i1,i2,i3):\n",
        "    i1 = (1/6)*(20+(4*i2)+(2*i3))                        #put respective x1 equation here\n",
        "    return i1\n",
        "\n",
        "def x2(i1,i2,i3):\n",
        "    i2 = (1/18)*((4*i1)+(8*i3))                          #put respective x1 equation here\n",
        "    return i2\n",
        "\n",
        "def x3(i1,i2,i3):\n",
        "    i3 = (1/15)*((2*i1)+(8*i2))                          #put respective x1 equation here\n",
        "    return i3\n",
        "\n",
        "max_itr = 100\n",
        "\n",
        "solution = gauss_seidel(max_itr)\n",
        "\n",
        "print(\"value of [x1, x2, x3] respectively are\", solution)\n",
        "print(\"value of [x1, x2, x3] roundoff respectively are\", [round(i) for i in solution])"
      ]
    }
  ]
}