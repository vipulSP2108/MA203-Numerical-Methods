{
  "nbformat": 4,
  "nbformat_minor": 0,
  "metadata": {
    "colab": {
      "provenance": []
    },
    "kernelspec": {
      "name": "python3",
      "display_name": "Python 3"
    },
    "language_info": {
      "name": "python"
    }
  },
  "cells": [
    {
      "cell_type": "markdown",
      "source": [
        "# Problem 2\n",
        "Figure below shows three reactors linked by pipes. As indicated, the rate of transfer of\n",
        "chemicals through each pipe is equal to a flow rate (Q with units of cubic meters per second)\n",
        "multiplied by the concentration of the reactor from which the flow originates (c , with units\n",
        "of milligrams per cubic meter). If the system is at a steady state, the transfer into each reactor\n",
        "will balance the transfer out. Develop mass balance equations for the reactors and solve the\n",
        "three simultaneous linear algebraic equations for their concentrations."
      ],
      "metadata": {
        "id": "L2lcF9GttNtW"
      }
    },
    {
      "cell_type": "code",
      "execution_count": 38,
      "metadata": {
        "colab": {
          "base_uri": "https://localhost:8080/"
        },
        "id": "z8jbzrMxtJVv",
        "outputId": "e8cfaee6-3df7-437a-94de-40b1d417a58a"
      },
      "outputs": [
        {
          "output_type": "stream",
          "name": "stdout",
          "text": [
            "value of [x1, x2, x3] respectively are [5.0, 5.0, 5.833333333333333]\n",
            "value of [x1, x2, x3] roundoff respectively are [5, 5, 6]\n"
          ]
        }
      ],
      "source": [
        "def gauss_seidel(max_itr):\n",
        "  updatedx1 = 0\n",
        "  updatedx2 = 0\n",
        "  updatedx3 = 0\n",
        "  for itr in range(0,max_itr+1):\n",
        "    updatedx1 = x1(updatedx1, updatedx2, updatedx3)\n",
        "    updatedx2 = x2(updatedx1, updatedx2, updatedx3)\n",
        "    updatedx3 = x3(updatedx1, updatedx2, updatedx3)\n",
        "\n",
        "  return [updatedx1, updatedx2, updatedx3]\n",
        "\n",
        "def x1(c1,c2,c3):\n",
        "    c1 = (1/130)*(500+(30*c2))                       #put respective x1 equation here\n",
        "    return c1\n",
        "\n",
        "def x2(c1,c2,c3):\n",
        "    c2 = c1                                          #put respective x2 equation here\n",
        "    return c2\n",
        "\n",
        "def x3(c1,c2,c3):\n",
        "    c3 = (1/12)*(20 + 4*c1 + 6*c2)                   #put respective x3 equation here\n",
        "    return c3\n",
        "\n",
        "max_itr = 100\n",
        "\n",
        "solution = gauss_seidel(max_itr)\n",
        "print(\"value of [x1, x2, x3] respectively are\", solution)\n",
        "print(\"value of [x1, x2, x3] roundoff respectively are\", [round(i) for i in solution])"
      ]
    }
  ]
}