{
  "nbformat": 4,
  "nbformat_minor": 0,
  "metadata": {
    "colab": {
      "provenance": []
    },
    "kernelspec": {
      "name": "python3",
      "display_name": "Python 3"
    },
    "language_info": {
      "name": "python"
    }
  },
  "cells": [
    {
      "cell_type": "markdown",
      "source": [
        "# Problem A1* (Tutorial problem)\n",
        "Suppose that a spherical droplet of liquid evaporates at a rate that is proportional to its\n",
        "surface area.\n",
        "\n",
        "𝑑𝑉 = −(𝑘/𝐴)𝑑𝑡\n",
        "\n",
        "where V = volume(mm3), t = time(min), k = the evaporation rate(mm/min), and A = surface area(mm2). Use Euler’s method to compute the volume of the droplet from t = 0 to 10 min using a step size of 0.25 min. Assume that k = 0.1 mm/min and that the droplet initially has a radius of 3 mm. Assess the validity of your results by determining the radius of your final computed volume. Calculate the average evaporation rate (change in radius/time) and verify that it is consistent with the given evaporation rate."
      ],
      "metadata": {
        "id": "-CcSbu7Rhh2i"
      }
    },
    {
      "cell_type": "code",
      "execution_count": 1,
      "metadata": {
        "colab": {
          "base_uri": "https://localhost:8080/"
        },
        "id": "fLG_wcszhWIz",
        "outputId": "4250bee2-047a-4a71-b9f0-1412724d59e2"
      },
      "outputs": [
        {
          "output_type": "stream",
          "name": "stdout",
          "text": [
            "for step 0.25 : 110.21399999999998\n",
            "for step 0.5 : 107.43529846289506\n",
            "for step 0.75 : 104.70349959068773\n",
            "for step 1.0 : 102.01820755719882\n",
            "for step 1.25 : 99.37902650757968\n",
            "for step 1.5 : 96.78556055781156\n",
            "for step 1.75 : 94.23741379419172\n",
            "for step 2.0 : 91.73419027280576\n",
            "for step 2.25 : 89.27549401898584\n",
            "for step 2.5 : 86.860929026754\n",
            "for step 2.75 : 84.49009925825028\n",
            "for step 3.0 : 82.16260864314498\n",
            "for step 3.25 : 79.87806107803439\n",
            "for step 3.5 : 77.63606042581957\n",
            "for step 3.75 : 75.43621051506723\n",
            "for step 4.0 : 73.27811513935242\n",
            "for step 4.25 : 71.1613780565819\n",
            "for step 4.5 : 69.08560298829775\n",
            "for step 4.75 : 67.05039361896031\n",
            "for step 5.0 : 65.05535359520957\n",
            "for step 5.25 : 63.10008652510427\n",
            "for step 5.5 : 61.184195977337694\n",
            "for step 5.75 : 59.30728548042924\n",
            "for step 6.0 : 57.468958521890755\n",
            "for step 6.25 : 55.66881854736653\n",
            "for step 6.5 : 53.9064689597459\n",
            "for step 6.75 : 52.181513118247246\n",
            "for step 7.0 : 50.49355433747208\n",
            "for step 7.25 : 48.84219588642799\n",
            "for step 7.5 : 47.22704098751906\n",
            "for step 7.75 : 45.64769281550221\n",
            "for step 8.0 : 44.10375449640796\n",
            "for step 8.25 : 42.594829106424\n",
            "for step 8.5 : 41.1205196707398\n",
            "for step 8.75 : 39.68042916235042\n",
            "for step 9.0 : 38.27416050081758\n",
            "for step 9.25 : 36.90131655098592\n",
            "for step 9.5 : 35.561500121652266\n",
            "for step 9.75 : 34.25431396418556\n",
            "for step 10.0 : 32.97936077109501\n"
          ]
        }
      ],
      "source": [
        "k = 0.1\n",
        "pi = 3.14\n",
        "v = 0\n",
        "r = 3\n",
        "initialV = (4/3)*pi*r*r*r\n",
        "stepsize = 0.25\n",
        "step = 0\n",
        "\n",
        "def func1(V):\n",
        "  func_return = -k*(4*pi*(((3*V)/(4*pi))**(2/3)))\n",
        "  return func_return\n",
        "\n",
        "for v in range(40):\n",
        "  step += 0.25\n",
        "  part2 = stepsize*func1(initialV)\n",
        "  V = initialV + part2\n",
        "  initialV = V\n",
        "  print(f\"for step {step} : {V}\")"
      ]
    }
  ]
}