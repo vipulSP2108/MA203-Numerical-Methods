{
  "nbformat": 4,
  "nbformat_minor": 0,
  "metadata": {
    "colab": {
      "provenance": [],
      "collapsed_sections": [
        "GlsbOj6tYB7W",
        "6wTxPfEtYNjC"
      ]
    },
    "kernelspec": {
      "name": "python3",
      "display_name": "Python 3"
    },
    "language_info": {
      "name": "python"
    }
  },
  "cells": [
    {
      "cell_type": "markdown",
      "source": [
        "# Summation of numbers (basic, Loops)\n",
        "\n",
        "Declare the set of numbers:"
      ],
      "metadata": {
        "id": "GlsbOj6tYB7W"
      }
    },
    {
      "cell_type": "markdown",
      "source": [
        "Numbers from 1 to N (a= [1234... N]).\n",
        "Use For and While loop to compute the sum of all the number"
      ],
      "metadata": {
        "id": "aQPBMfYnXjSo"
      }
    },
    {
      "cell_type": "code",
      "source": [
        "# n = int(input(\"N for sum of all Natural number till N is \"))\n",
        "sumfor = 0\n",
        "sumwhile = 0\n",
        "i = 0\n",
        "\n",
        "n = 7\n",
        "\n",
        "while i <= n:\n",
        "  sumwhile += i\n",
        "  i += 1\n",
        "\n",
        "for i in range(1,n+1): #difine i if you want for and while loop up side down\n",
        "  sumfor += i\n",
        "\n",
        "print(f\"Sum by while-loop {sumwhile}\")\n",
        "print(f\"Sum by for-loop {sumfor}\")"
      ],
      "metadata": {
        "colab": {
          "base_uri": "https://localhost:8080/"
        },
        "id": "-PahZn4LXi9V",
        "outputId": "ea23b95b-2ea3-448e-c51f-1caeb5a182b0"
      },
      "execution_count": 3,
      "outputs": [
        {
          "output_type": "stream",
          "name": "stdout",
          "text": [
            "Sum by while-loop 28\n",
            "Sum by for-loop 28\n"
          ]
        }
      ]
    },
    {
      "cell_type": "markdown",
      "source": [
        "Or\n",
        "\n",
        "User defined array (a = [1 386 10 5.).\n",
        "Use For and While loop to compute the sum of all the number"
      ],
      "metadata": {
        "id": "WjPh4y9TXtv4"
      }
    },
    {
      "cell_type": "code",
      "source": [
        "# n = str(input(f\"number of eliment in your array \"))\n",
        "\n",
        "# input_str = n[1:-1]                         # for input format : [1,2,3,4]...\n",
        "# userarr = [int(j) for j in input_str.split(',')]\n",
        "\n",
        "# userarr = []                              # for input format : first list size then 1 then 2 then 3...\n",
        "# for i in range(n):\n",
        "#   eliment = int(input(f\"eliment {i} of your array \"))\n",
        "#   userarr.append(eliment)\n",
        "\n",
        "userarr = [1, 386, 10, 5]\n",
        "\n",
        "sumfor = 0\n",
        "sumwhile = 0\n",
        "i = 0\n",
        "\n",
        "while i < len(userarr):\n",
        "  sumwhile += userarr[i]\n",
        "  i += 1\n",
        "\n",
        "for i in range(0,len(userarr)):\n",
        "  sumfor += userarr[i]\n",
        "\n",
        "print(f\"Sum by for-loop {sumfor}\")\n",
        "print(f\"Sum by while-loop {sumwhile}\")"
      ],
      "metadata": {
        "colab": {
          "base_uri": "https://localhost:8080/"
        },
        "id": "Keqf51GAX6QJ",
        "outputId": "7e807237-7503-4313-fbb8-c8a68907733e"
      },
      "execution_count": 4,
      "outputs": [
        {
          "output_type": "stream",
          "name": "stdout",
          "text": [
            "Sum by for-loop 402\n",
            "Sum by while-loop 402\n"
          ]
        }
      ]
    },
    {
      "cell_type": "markdown",
      "source": [
        "Or\n",
        "\n",
        "Integers between 1 and 2^x (x is the input)\n",
        "\n",
        "Use For and While loop to compute the sum of all the number"
      ],
      "metadata": {
        "id": "9EuyiEvRXv0r"
      }
    },
    {
      "cell_type": "code",
      "source": [
        "# x = int(input(\"x for sum of all Integers between 1 and 2^x is \"))\n",
        "sumfor = 0\n",
        "sumwhile = 0\n",
        "i = 2\n",
        "\n",
        "x = 3\n",
        "\n",
        "while i<(2**x):        #both 1 and 2**x not included\n",
        "  sumwhile += i\n",
        "  i += 1\n",
        "\n",
        "for i in range(1,(2**x)+1): #both 1 and 2**x included\n",
        "  sumfor += i\n",
        "\n",
        "print(f\"Sum by while-loop for both 1 and 2**x not included is {sumwhile}\")\n",
        "print(f\"Sum by for-loop for both 1 and 2**x included is {sumfor}\")"
      ],
      "metadata": {
        "colab": {
          "base_uri": "https://localhost:8080/"
        },
        "id": "8Bhm5z_rYGnz",
        "outputId": "daa11888-c781-4957-ea52-ae41a5ca8f7e"
      },
      "execution_count": 5,
      "outputs": [
        {
          "output_type": "stream",
          "name": "stdout",
          "text": [
            "Sum by while-loop for both 1 and 2**x not included is 27\n",
            "Sum by for-loop for both 1 and 2**x included is 36\n"
          ]
        }
      ]
    },
    {
      "cell_type": "markdown",
      "source": [
        "# Find the largest number in the set (intermediate, Loops)\n",
        "\n",
        "Declare the set of numbers from the user ( a =[1 8 8 6 10 5...])\n",
        "\n",
        "Use For and While loop to compare two numbers consecutively and find the largest number in the set."
      ],
      "metadata": {
        "id": "kwHU1jBIYHND"
      }
    },
    {
      "cell_type": "code",
      "source": [
        "# n = str(input(f\"number of eliment in your array \"))\n",
        "\n",
        "# input_str = n[1:-1]                         # for input format : [1,2,3,4]...\n",
        "# userarr = [int(j) for j in input_str.split(',')]\n",
        "\n",
        "# userarr = []                              # for input format : first list size then 1 then 2 then 3...\n",
        "# for i in range(n):\n",
        "#   eliment = int(input(f\"eliment {i} of your array \"))\n",
        "#   userarr.append(eliment)\n",
        "\n",
        "userarr = [1, 8, 8, 6, 10, 5]\n",
        "\n",
        "formax = 0;\n",
        "whilemax = 0;\n",
        "i = 0;\n",
        "\n",
        "while i<len(userarr):\n",
        "  if whilemax < userarr[i]:\n",
        "    whilemax = userarr[i]\n",
        "  i += 1\n",
        "\n",
        "for i in userarr:\n",
        "  if formax < i:\n",
        "    formax = i\n",
        "\n",
        "print(f\"{formax} is maximum we got from for-loop\")\n",
        "print(f\"{whilemax} is maximum we got from while-loop\")"
      ],
      "metadata": {
        "id": "sktiHGePYT7o",
        "colab": {
          "base_uri": "https://localhost:8080/"
        },
        "outputId": "0854fe1c-750c-4e12-9e88-c4305170bd12"
      },
      "execution_count": 6,
      "outputs": [
        {
          "output_type": "stream",
          "name": "stdout",
          "text": [
            "10 is maximum we got from for-loop\n",
            "10 is maximum we got from while-loop\n"
          ]
        }
      ]
    },
    {
      "cell_type": "markdown",
      "source": [
        "# Construct the common array Ss (intermediate, Loops)\n",
        "\n",
        "Declare two arrays S1 and S2 containing the numbers. Construct S3, a new array, such that it contains both S1 and S2 and is as short as possible (no repetition of the numbers and use nested loops)\n",
        "\n",
        "Example\n",
        "\n",
        "S1=[1 2 5 + 5 ].S2=[5 10 1 20 16 37]\n",
        "\n",
        "S3= Box 1 * 3 +5 10 20 16 377\n",
        "\n",
        "Use For and While loop to compare the arrays St and St and create the S by knowing the\n",
        "\n",
        "repeated elements"
      ],
      "metadata": {
        "id": "GTp8P3vIYKpR"
      }
    },
    {
      "cell_type": "code",
      "source": [
        "# # M1\n",
        "Declared1=[1,3,5,7,9]\n",
        "Declared2=[2,3,4,6,7,10,12]\n",
        "\n",
        "Declared3=[]\n",
        "Declared3=Declared3+Declared1\n",
        "\n",
        "yes = 0\n",
        "for i in Declared2:       # change with while i<len(Declared2)\n",
        "  for j in Declared1:     # change with while j<len(Declared1)\n",
        "    if i == j:\n",
        "      yes = 1             # add j += 1 in last(here next) step of loop\n",
        "  if yes == 0:\n",
        "    Declared3.append(i)\n",
        "  if yes == 1:\n",
        "    yes = 0               # add i += 1 in last(here next) step of loop\n",
        "\n",
        "print(Declared3)          # do these comment out steps for ans in while-loop\n",
        "\n",
        "\n",
        "# # M2\n",
        "# import copy\n",
        "# l3 = copy.deepcopy(l1)\n",
        "# for i in l2:\n",
        "#   if i not in l3:\n",
        "#     l3.append(i)\n",
        "\n",
        "# # M3\n",
        "# print(l3)\n",
        "# print(list(set(l1+l2)))"
      ],
      "metadata": {
        "colab": {
          "base_uri": "https://localhost:8080/"
        },
        "id": "4zECN5roYTPn",
        "outputId": "6378d8ff-3f46-4ddd-8151-45d8ae7441e9"
      },
      "execution_count": 7,
      "outputs": [
        {
          "output_type": "stream",
          "name": "stdout",
          "text": [
            "[1, 3, 5, 7, 9, 2, 4, 6, 10, 12]\n"
          ]
        }
      ]
    },
    {
      "cell_type": "markdown",
      "source": [
        "# Find the factors (basic, Functions)\n",
        "\n",
        "For the given set of numbers, find all the factors of each number and tabulate.\n",
        "\n",
        "Step 1Declare the number set from the user defined input (a=[1 8 6 * 10.5 ... Box)\n",
        "\n",
        "Step 2Write a Function to find all the factors of a given number\n",
        "\n",
        "Step 3. Use this function to get the factors for all the numbers in the set using a loop Step 4. Tabulate the data and print it"
      ],
      "metadata": {
        "id": "6wTxPfEtYNjC"
      }
    },
    {
      "cell_type": "code",
      "source": [
        "# n = str(input(f\"number of eliment in your array \"))\n",
        "\n",
        "# input_str = n[1:-1]                         # for input format : [1,2,3,4]...\n",
        "# userarr = [int(j) for j in input_str.split(',')]\n",
        "\n",
        "# userarr = []                                # for input format : first list size then 1 then 2 then 3...\n",
        "# for i in range(n):\n",
        "#   eliment = int(input(f\"eliment {i} of your array \"))\n",
        "#   userarr.append(eliment)\n",
        "\n",
        "userarr = [1, 8, 8, 6, 10, 5]\n",
        "\n",
        "table = {}\n",
        "for i in list :\n",
        "  fact = []\n",
        "  for j in range(1,i+1):\n",
        "    if i%j == 0 :\n",
        "      fact.append(j)\n",
        "  table[i] = fact\n",
        "\n",
        "print(table)"
      ],
      "metadata": {
        "id": "e69afRjcYR6N",
        "colab": {
          "base_uri": "https://localhost:8080/"
        },
        "outputId": "3049dda5-0cef-4dca-ffcf-17e11e14ec6f"
      },
      "execution_count": 8,
      "outputs": [
        {
          "output_type": "stream",
          "name": "stdout",
          "text": [
            "{2: [1, 2], 5: [1, 5], 4: [1, 2, 4], 6: [1, 2, 3, 6], 7: [1, 7], 25: [1, 5, 25], 21: [1, 3, 7, 21]}\n"
          ]
        }
      ]
    }
  ]
}