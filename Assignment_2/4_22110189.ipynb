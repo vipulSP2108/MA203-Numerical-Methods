{
  "nbformat": 4,
  "nbformat_minor": 0,
  "metadata": {
    "colab": {
      "provenance": []
    },
    "kernelspec": {
      "name": "python3",
      "display_name": "Python 3"
    },
    "language_info": {
      "name": "python"
    }
  },
  "cells": [
    {
      "cell_type": "code",
      "source": [
        "import matplotlib.pyplot as plt\n",
        "import numpy as np"
      ],
      "metadata": {
        "id": "ynFF2nz9x1GM"
      },
      "execution_count": 1,
      "outputs": []
    },
    {
      "cell_type": "markdown",
      "source": [
        "# Problem 4\n",
        "\n",
        "Figure below shows a circuit with a resistor, an inductor, and a capacitor in parallel. Kirchhoff’s\n",
        "rules can be used to express the impedance of the system as\n",
        "\n",
        "1Z= √(1/R2 + (ωC −1/ωL)^2)\n",
        "\n",
        "where Z = Impedance (Ω) and ω = angular frequency. Find the ω that results in an\n",
        "impedance of 75 Ω for the following parameters: R = 225 Ω, C = 0.6 × 10−6 F, L =\n",
        "0.5 H. Use any open method for root-finding.\n"
      ],
      "metadata": {
        "id": "ewA7TcuDxwrI"
      }
    },
    {
      "cell_type": "code",
      "execution_count": 12,
      "metadata": {
        "colab": {
          "base_uri": "https://localhost:8080/"
        },
        "id": "dblNwkZAxoUc",
        "outputId": "2cbd8101-7638-4140-cbb5-ad6c1b2f4ea5"
      },
      "outputs": [
        {
          "output_type": "stream",
          "name": "stdout",
          "text": [
            "0.3516590959196412\n"
          ]
        }
      ],
      "source": [
        "def newton_formula(xi):\n",
        "  c = 0.6*(10**(-6))\n",
        "  fun = (((((xi**2)*c*0.5) - 1)/(xi*0.5))**2) + ((1/225)**2) - ((1/75)**2)\n",
        "  fun_dash = 2*(c + (1/((xi**2)*0.5)))\n",
        "  return xi - (fun/fun_dash)\n",
        "\n",
        "# def newton_formula(xi):\n",
        "#   return xi - (fun(xi)/fun_dash(xi))\n",
        "\n",
        "# def fun(w):\n",
        "#   c = 0.6*(10**(-6))\n",
        "#   return (((((w**2)*c*0.5) - 1)/(w*0.5))**2) + ((1/225)**2) - ((1/75)**2)\n",
        "\n",
        "# def fun_dash(w):\n",
        "#   c = 0.6*(10**(-6))\n",
        "#   return 2*(c + (1/((w**2)*0.5)))\n",
        "\n",
        "omega = 80\n",
        "while newton_formula(omega) > 0.00000001:\n",
        "  omega = newton_formula(omega)\n",
        "  # print(omega)\n",
        "print(omega)"
      ]
    }
  ]
}