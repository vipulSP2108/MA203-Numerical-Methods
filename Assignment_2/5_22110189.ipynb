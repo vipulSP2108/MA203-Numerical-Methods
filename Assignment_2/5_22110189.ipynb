{
  "nbformat": 4,
  "nbformat_minor": 0,
  "metadata": {
    "colab": {
      "provenance": []
    },
    "kernelspec": {
      "name": "python3",
      "display_name": "Python 3"
    },
    "language_info": {
      "name": "python"
    }
  },
  "cells": [
    {
      "cell_type": "markdown",
      "source": [
        "# Problem 5\n",
        "For fluid flow in pipes, friction is described by a dimensionless number, the Fanning friction factor f. The Fanning friction factor is dependent on a number of parameters related to the size of the pipe and the fluid, which can all be represented by another dimensionless quantity, the Reynolds number Re. A formula that predicts the value of f given Re is the von Karman equation,\n",
        "\n",
        "1/√f= 4log10(Re√f) − 0.4\n",
        "\n",
        "Typical values for the Reynolds number for turbulent flows are 10,000 to 500,000 and for Fanning friction factor are 0.001 to 0.01. Develop a function that solves for fgiven a user-supplied value of Re between 2500 and 1,000,000. Design the function in such a way that the relative error tolerance is sufficiently low to enable accurate computation of friction factors for all values of Reynolds numbers. Use any open method for root-finding."
      ],
      "metadata": {
        "id": "oLe6rT8GTLkg"
      }
    },
    {
      "cell_type": "code",
      "execution_count": 29,
      "metadata": {
        "colab": {
          "base_uri": "https://localhost:8080/"
        },
        "id": "3-ygjTyBQwub",
        "outputId": "f8e24330-b95c-458e-8de0-877c85bc3a73"
      },
      "outputs": [
        {
          "output_type": "stream",
          "name": "stdout",
          "text": [
            "212121\n",
            "0.009998151398506207\n"
          ]
        }
      ],
      "source": [
        "def fun(re, f):\n",
        "  return ((10** (((1/(f**0.5))+0.4)/4))-(re*(f**0.5)))\n",
        "\n",
        "re = float(input())    #between 2500 to 1000000\n",
        "\n",
        "f0 = 0.001\n",
        "f1 = 0.01\n",
        "f2 = f1 - ((fun(re, f1)*(f0-f1))/(fun(re, f0)-fun(re,f1)))\n",
        "while (abs((f2-f1)/f2)) > 0.000000000001:\n",
        "  f2 = f1 - ((fun(re, f1)*(f0-f1))/(fun(re, f0)-fun(re,f1)))\n",
        "  f0, f1 = f1, f2\n",
        "  print(f2)"
      ]
    }
  ]
}